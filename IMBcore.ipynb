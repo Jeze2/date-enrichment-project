{
 "cells": [
  {
   "cell_type": "code",
   "execution_count": 1,
   "id": "84ca634b",
   "metadata": {},
   "outputs": [],
   "source": [
    "import os\n",
    "import pandas as pd"
   ]
  },
  {
   "cell_type": "code",
   "execution_count": 2,
   "id": "9da0fedc",
   "metadata": {},
   "outputs": [
    {
     "data": {
      "text/plain": [
       "['title_akas.csv.gz', 'title_basics.csv.gz', 'title_ratings.csv.gz']"
      ]
     },
     "execution_count": 2,
     "metadata": {},
     "output_type": "execute_result"
    }
   ],
   "source": [
    "os.makedirs('Data/',exist_ok=True) # Confirm folder created\n",
    "os.listdir(\"Data/\")\n"
   ]
  },
  {
   "cell_type": "code",
   "execution_count": 3,
   "id": "2e84f894",
   "metadata": {},
   "outputs": [],
   "source": [
    "url1=\"https://datasets.imdbws.com/title.ratings.tsv.gz\"\n",
    "url2=\"https://datasets.imdbws.com/title.akas.tsv.gz\"\n",
    "url3=\"https://datasets.imdbws.com/title.basics.tsv.gz\"\n"
   ]
  },
  {
   "cell_type": "code",
   "execution_count": 4,
   "id": "a710b887",
   "metadata": {},
   "outputs": [],
   "source": [
    "ratings  = pd.read_csv(url1, sep='\\t', low_memory=False)\n",
    "akas  = pd.read_csv(url2, sep='\\t', low_memory=False)\n",
    "basics = pd.read_csv(url3, sep='\\t', low_memory=False) \n",
    "\n"
   ]
  },
  {
   "cell_type": "code",
   "execution_count": 5,
   "id": "ec819719",
   "metadata": {},
   "outputs": [],
   "source": [
    "akas = akas[akas['region'] == 'US']\n"
   ]
  },
  {
   "cell_type": "code",
   "execution_count": 6,
   "id": "c7578c7b",
   "metadata": {},
   "outputs": [],
   "source": [
    "import numpy as np\n",
    "\n",
    "akas = akas.replace('\\\\N', np.nan)"
   ]
  },
  {
   "cell_type": "code",
   "execution_count": 7,
   "id": "44dfc7ae",
   "metadata": {},
   "outputs": [
    {
     "data": {
      "text/plain": [
       "0            True\n",
       "1            True\n",
       "2           False\n",
       "3           False\n",
       "4            True\n",
       "            ...  \n",
       "10122740    False\n",
       "10122741    False\n",
       "10122742    False\n",
       "10122743    False\n",
       "10122744    False\n",
       "Name: tconst, Length: 10122745, dtype: bool"
      ]
     },
     "execution_count": 7,
     "metadata": {},
     "output_type": "execute_result"
    }
   ],
   "source": [
    "# Filter the basics table down to only include the US by using the filter akas dataframe\n",
    "keepers =basics['tconst'].isin(akas['titleId'])\n",
    "keepers\n",
    "\n"
   ]
  },
  {
   "cell_type": "code",
   "execution_count": 8,
   "id": "94a32eca",
   "metadata": {},
   "outputs": [],
   "source": [
    "basics = basics.replace('\\\\N', np.nan)\n"
   ]
  },
  {
   "cell_type": "code",
   "execution_count": 9,
   "id": "e2f00b1b",
   "metadata": {},
   "outputs": [],
   "source": [
    "#Drop null runtimeMinutes/genres:\n",
    "basics = basics.dropna(subset=['runtimeMinutes','genres'])\n"
   ]
  },
  {
   "cell_type": "code",
   "execution_count": 10,
   "id": "6b0e2a8e",
   "metadata": {},
   "outputs": [],
   "source": [
    "#Convert startYear to float:\n",
    "basics['startYear'] = basics['startYear'].astype(float)\n"
   ]
  },
  {
   "cell_type": "code",
   "execution_count": 11,
   "id": "5611acd3",
   "metadata": {},
   "outputs": [],
   "source": [
    "#Filter years 2000-2021:\n",
    "basics = basics[(basics['startYear'] >= 2000) & (basics['startYear'] <= 2021)]\n"
   ]
  },
  {
   "cell_type": "code",
   "execution_count": 13,
   "id": "39d914e1",
   "metadata": {},
   "outputs": [],
   "source": [
    "# Filter out documentaries\n",
    "is_documentary = basics['genres'].str.contains('documentary', case=False)\n",
    "basics = basics[~is_documentary]"
   ]
  },
  {
   "cell_type": "code",
   "execution_count": 14,
   "id": "5350f896",
   "metadata": {},
   "outputs": [
    {
     "name": "stdout",
     "output_type": "stream",
     "text": [
      "<class 'pandas.core.frame.DataFrame'>\n",
      "Index: 139031 entries, 34800 to 10122685\n",
      "Data columns (total 9 columns):\n",
      " #   Column          Non-Null Count   Dtype  \n",
      "---  ------          --------------   -----  \n",
      " 0   tconst          139031 non-null  object \n",
      " 1   titleType       139031 non-null  object \n",
      " 2   primaryTitle    139030 non-null  object \n",
      " 3   originalTitle   139030 non-null  object \n",
      " 4   isAdult         139031 non-null  object \n",
      " 5   startYear       139031 non-null  float64\n",
      " 6   endYear         0 non-null       object \n",
      " 7   runtimeMinutes  139031 non-null  object \n",
      " 8   genres          139031 non-null  object \n",
      "dtypes: float64(1), object(8)\n",
      "memory usage: 10.6+ MB\n",
      "None\n"
     ]
    }
   ],
   "source": [
    "# Filter out documentaries\n",
    "basics = basics[basics['titleType'] == 'movie']\n",
    "print(basics.info()) "
   ]
  },
  {
   "cell_type": "code",
   "execution_count": 15,
   "id": "e9ea52bf",
   "metadata": {},
   "outputs": [
    {
     "name": "stderr",
     "output_type": "stream",
     "text": [
      "C:\\Users\\jezep\\AppData\\Local\\Temp\\ipykernel_15664\\3967613893.py:1: UserWarning: Boolean Series key will be reindexed to match DataFrame index.\n",
      "  basics = basics[keepers]\n"
     ]
    },
    {
     "data": {
      "text/html": [
       "<div>\n",
       "<style scoped>\n",
       "    .dataframe tbody tr th:only-of-type {\n",
       "        vertical-align: middle;\n",
       "    }\n",
       "\n",
       "    .dataframe tbody tr th {\n",
       "        vertical-align: top;\n",
       "    }\n",
       "\n",
       "    .dataframe thead th {\n",
       "        text-align: right;\n",
       "    }\n",
       "</style>\n",
       "<table border=\"1\" class=\"dataframe\">\n",
       "  <thead>\n",
       "    <tr style=\"text-align: right;\">\n",
       "      <th></th>\n",
       "      <th>tconst</th>\n",
       "      <th>titleType</th>\n",
       "      <th>primaryTitle</th>\n",
       "      <th>originalTitle</th>\n",
       "      <th>isAdult</th>\n",
       "      <th>startYear</th>\n",
       "      <th>endYear</th>\n",
       "      <th>runtimeMinutes</th>\n",
       "      <th>genres</th>\n",
       "    </tr>\n",
       "  </thead>\n",
       "  <tbody>\n",
       "    <tr>\n",
       "      <th>34800</th>\n",
       "      <td>tt0035423</td>\n",
       "      <td>movie</td>\n",
       "      <td>Kate &amp; Leopold</td>\n",
       "      <td>Kate &amp; Leopold</td>\n",
       "      <td>0</td>\n",
       "      <td>2001.0</td>\n",
       "      <td>NaN</td>\n",
       "      <td>118</td>\n",
       "      <td>Comedy,Fantasy,Romance</td>\n",
       "    </tr>\n",
       "    <tr>\n",
       "      <th>61112</th>\n",
       "      <td>tt0062336</td>\n",
       "      <td>movie</td>\n",
       "      <td>The Tango of the Widower and Its Distorting Mi...</td>\n",
       "      <td>El tango del viudo y su espejo deformante</td>\n",
       "      <td>0</td>\n",
       "      <td>2020.0</td>\n",
       "      <td>NaN</td>\n",
       "      <td>70</td>\n",
       "      <td>Drama</td>\n",
       "    </tr>\n",
       "    <tr>\n",
       "      <th>67486</th>\n",
       "      <td>tt0068865</td>\n",
       "      <td>movie</td>\n",
       "      <td>Lives of Performers</td>\n",
       "      <td>Lives of Performers</td>\n",
       "      <td>0</td>\n",
       "      <td>2016.0</td>\n",
       "      <td>NaN</td>\n",
       "      <td>90</td>\n",
       "      <td>Drama</td>\n",
       "    </tr>\n",
       "    <tr>\n",
       "      <th>67664</th>\n",
       "      <td>tt0069049</td>\n",
       "      <td>movie</td>\n",
       "      <td>The Other Side of the Wind</td>\n",
       "      <td>The Other Side of the Wind</td>\n",
       "      <td>0</td>\n",
       "      <td>2018.0</td>\n",
       "      <td>NaN</td>\n",
       "      <td>122</td>\n",
       "      <td>Drama</td>\n",
       "    </tr>\n",
       "    <tr>\n",
       "      <th>80549</th>\n",
       "      <td>tt0082328</td>\n",
       "      <td>movie</td>\n",
       "      <td>Embodiment of Evil</td>\n",
       "      <td>Encarnação do Demônio</td>\n",
       "      <td>0</td>\n",
       "      <td>2008.0</td>\n",
       "      <td>NaN</td>\n",
       "      <td>94</td>\n",
       "      <td>Horror</td>\n",
       "    </tr>\n",
       "    <tr>\n",
       "      <th>...</th>\n",
       "      <td>...</td>\n",
       "      <td>...</td>\n",
       "      <td>...</td>\n",
       "      <td>...</td>\n",
       "      <td>...</td>\n",
       "      <td>...</td>\n",
       "      <td>...</td>\n",
       "      <td>...</td>\n",
       "      <td>...</td>\n",
       "    </tr>\n",
       "    <tr>\n",
       "      <th>10121884</th>\n",
       "      <td>tt9914942</td>\n",
       "      <td>movie</td>\n",
       "      <td>Life Without Sara Amat</td>\n",
       "      <td>La vida sense la Sara Amat</td>\n",
       "      <td>0</td>\n",
       "      <td>2019.0</td>\n",
       "      <td>NaN</td>\n",
       "      <td>74</td>\n",
       "      <td>Drama</td>\n",
       "    </tr>\n",
       "    <tr>\n",
       "      <th>10122278</th>\n",
       "      <td>tt9915872</td>\n",
       "      <td>movie</td>\n",
       "      <td>The Last White Witch</td>\n",
       "      <td>Boku no kanojo wa mahoutsukai</td>\n",
       "      <td>0</td>\n",
       "      <td>2019.0</td>\n",
       "      <td>NaN</td>\n",
       "      <td>97</td>\n",
       "      <td>Comedy,Drama,Fantasy</td>\n",
       "    </tr>\n",
       "    <tr>\n",
       "      <th>10122418</th>\n",
       "      <td>tt9916170</td>\n",
       "      <td>movie</td>\n",
       "      <td>The Rehearsal</td>\n",
       "      <td>O Ensaio</td>\n",
       "      <td>0</td>\n",
       "      <td>2019.0</td>\n",
       "      <td>NaN</td>\n",
       "      <td>51</td>\n",
       "      <td>Drama</td>\n",
       "    </tr>\n",
       "    <tr>\n",
       "      <th>10122427</th>\n",
       "      <td>tt9916190</td>\n",
       "      <td>movie</td>\n",
       "      <td>Safeguard</td>\n",
       "      <td>Safeguard</td>\n",
       "      <td>0</td>\n",
       "      <td>2020.0</td>\n",
       "      <td>NaN</td>\n",
       "      <td>95</td>\n",
       "      <td>Action,Adventure,Thriller</td>\n",
       "    </tr>\n",
       "    <tr>\n",
       "      <th>10122511</th>\n",
       "      <td>tt9916362</td>\n",
       "      <td>movie</td>\n",
       "      <td>Coven</td>\n",
       "      <td>Akelarre</td>\n",
       "      <td>0</td>\n",
       "      <td>2020.0</td>\n",
       "      <td>NaN</td>\n",
       "      <td>92</td>\n",
       "      <td>Drama,History</td>\n",
       "    </tr>\n",
       "  </tbody>\n",
       "</table>\n",
       "<p>82034 rows × 9 columns</p>\n",
       "</div>"
      ],
      "text/plain": [
       "             tconst titleType  \\\n",
       "34800     tt0035423     movie   \n",
       "61112     tt0062336     movie   \n",
       "67486     tt0068865     movie   \n",
       "67664     tt0069049     movie   \n",
       "80549     tt0082328     movie   \n",
       "...             ...       ...   \n",
       "10121884  tt9914942     movie   \n",
       "10122278  tt9915872     movie   \n",
       "10122418  tt9916170     movie   \n",
       "10122427  tt9916190     movie   \n",
       "10122511  tt9916362     movie   \n",
       "\n",
       "                                               primaryTitle  \\\n",
       "34800                                        Kate & Leopold   \n",
       "61112     The Tango of the Widower and Its Distorting Mi...   \n",
       "67486                                   Lives of Performers   \n",
       "67664                            The Other Side of the Wind   \n",
       "80549                                    Embodiment of Evil   \n",
       "...                                                     ...   \n",
       "10121884                             Life Without Sara Amat   \n",
       "10122278                               The Last White Witch   \n",
       "10122418                                      The Rehearsal   \n",
       "10122427                                          Safeguard   \n",
       "10122511                                              Coven   \n",
       "\n",
       "                                      originalTitle isAdult  startYear  \\\n",
       "34800                                Kate & Leopold       0     2001.0   \n",
       "61112     El tango del viudo y su espejo deformante       0     2020.0   \n",
       "67486                           Lives of Performers       0     2016.0   \n",
       "67664                    The Other Side of the Wind       0     2018.0   \n",
       "80549                         Encarnação do Demônio       0     2008.0   \n",
       "...                                             ...     ...        ...   \n",
       "10121884                 La vida sense la Sara Amat       0     2019.0   \n",
       "10122278              Boku no kanojo wa mahoutsukai       0     2019.0   \n",
       "10122418                                   O Ensaio       0     2019.0   \n",
       "10122427                                  Safeguard       0     2020.0   \n",
       "10122511                                   Akelarre       0     2020.0   \n",
       "\n",
       "         endYear runtimeMinutes                     genres  \n",
       "34800        NaN            118     Comedy,Fantasy,Romance  \n",
       "61112        NaN             70                      Drama  \n",
       "67486        NaN             90                      Drama  \n",
       "67664        NaN            122                      Drama  \n",
       "80549        NaN             94                     Horror  \n",
       "...          ...            ...                        ...  \n",
       "10121884     NaN             74                      Drama  \n",
       "10122278     NaN             97       Comedy,Drama,Fantasy  \n",
       "10122418     NaN             51                      Drama  \n",
       "10122427     NaN             95  Action,Adventure,Thriller  \n",
       "10122511     NaN             92              Drama,History  \n",
       "\n",
       "[82034 rows x 9 columns]"
      ]
     },
     "execution_count": 15,
     "metadata": {},
     "output_type": "execute_result"
    }
   ],
   "source": [
    "basics = basics[keepers]\n",
    "basics"
   ]
  },
  {
   "cell_type": "code",
   "execution_count": null,
   "id": "957f9357",
   "metadata": {},
   "outputs": [],
   "source": [
    "# Filter the basics table down to only include the US by using the filter akas dataframe\n",
    "keeper =ratings['tconst'].isin(akas['titleId'])\n",
    "keeper\n",
    "\n"
   ]
  },
  {
   "cell_type": "code",
   "execution_count": null,
   "id": "306c0b68",
   "metadata": {},
   "outputs": [],
   "source": [
    "ratings = ratings[keeper]\n",
    "ratings"
   ]
  },
  {
   "cell_type": "code",
   "execution_count": null,
   "id": "3b86d93a",
   "metadata": {},
   "outputs": [],
   "source": [
    "## Save current dataframe to file.\n",
    "basics.to_csv(\"Data/title_basics.csv.gz\",compression='gzip',index=False)"
   ]
  },
  {
   "cell_type": "code",
   "execution_count": null,
   "id": "33413722",
   "metadata": {},
   "outputs": [],
   "source": [
    "# Open saved file and preview again\n",
    "basics = pd.read_csv(\"Data/title_basics.csv.gz\", low_memory = False)\n",
    "basics.head()\n",
    "\n"
   ]
  },
  {
   "cell_type": "code",
   "execution_count": null,
   "id": "decf4816",
   "metadata": {},
   "outputs": [],
   "source": [
    "## Save current dataframe to file.\n",
    "akas.to_csv(\"Data/title_akas.csv.gz\",compression='gzip',index=False)"
   ]
  },
  {
   "cell_type": "code",
   "execution_count": null,
   "id": "ba80ef8c",
   "metadata": {},
   "outputs": [],
   "source": [
    "# Open saved file and preview again\n",
    "akas = pd.read_csv(\"Data/title_akas.csv.gz\", low_memory = False)\n",
    "akas.head()\n",
    "\n"
   ]
  },
  {
   "cell_type": "code",
   "execution_count": null,
   "id": "d572563e",
   "metadata": {},
   "outputs": [],
   "source": [
    "## Save current dataframe to file.\n",
    "ratings.to_csv(\"Data/title_ratings.csv.gz\",compression='gzip',index=False)"
   ]
  },
  {
   "cell_type": "code",
   "execution_count": null,
   "id": "86b7980d",
   "metadata": {},
   "outputs": [],
   "source": [
    "# Open saved file and preview again\n",
    "ratings = pd.read_csv(\"Data/title_ratings.csv.gz\", low_memory = False)\n",
    "ratings.head()\n",
    "\n"
   ]
  }
 ],
 "metadata": {
  "kernelspec": {
   "display_name": "Python 3 (ipykernel)",
   "language": "python",
   "name": "python3"
  },
  "language_info": {
   "codemirror_mode": {
    "name": "ipython",
    "version": 3
   },
   "file_extension": ".py",
   "mimetype": "text/x-python",
   "name": "python",
   "nbconvert_exporter": "python",
   "pygments_lexer": "ipython3",
   "version": "3.11.4"
  },
  "toc": {
   "base_numbering": 1,
   "nav_menu": {},
   "number_sections": true,
   "sideBar": true,
   "skip_h1_title": false,
   "title_cell": "Table of Contents",
   "title_sidebar": "Contents",
   "toc_cell": false,
   "toc_position": {},
   "toc_section_display": true,
   "toc_window_display": false
  }
 },
 "nbformat": 4,
 "nbformat_minor": 5
}
